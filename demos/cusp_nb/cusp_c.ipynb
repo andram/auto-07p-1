{
 "cells": [
  {
   "cell_type": "code",
   "execution_count": null,
   "id": "e91f180f",
   "metadata": {},
   "outputs": [],
   "source": [
    "import os\n",
    "import sys\n",
    "\n",
    "\n",
    "try:\n",
    "    AUTO_DIR=os.environ[\"AUTO_DIR\"]        \n",
    "    sys.path.append(os.path.join(AUTO_DIR, \"python\") )\n",
    "except KeyError:\n",
    "    pass\n"
   ]
  },
  {
   "cell_type": "code",
   "execution_count": null,
   "id": "add537a7",
   "metadata": {},
   "outputs": [],
   "source": [
    "import auto"
   ]
  },
  {
   "cell_type": "markdown",
   "id": "86d32cdc",
   "metadata": {},
   "source": [
    " AUTO Demo cusp\n",
    "===============\n",
    "\n",
    "Let us study the dynamical system \n",
    "\\begin{equation}\n",
    "\\frac{d}{dt} x(t) = \\mu + \\lambda x - x^3\n",
    "\\end{equation}"
   ]
  },
  {
   "cell_type": "markdown",
   "id": "76f23012-9ba4-4e88-8637-b3c98c055cbf",
   "metadata": {},
   "source": [
    "Create the `cusp_c.c` file. Unhide the following cell to edit the source code."
   ]
  },
  {
   "cell_type": "code",
   "execution_count": null,
   "id": "307c3b66",
   "metadata": {
    "jupyter": {
     "source_hidden": true
    },
    "tags": []
   },
   "outputs": [],
   "source": [
    "%%writefile cusp_c.c\n",
    "#include \"auto_f2c.h\"\n",
    "\n",
    "/* ---------------------------------------------------------------------- */\n",
    "/* ---------------------------------------------------------------------- */\n",
    "/*   cusp_c.c - cusp normal form                                          */\n",
    "/* ---------------------------------------------------------------------- */\n",
    "/* ---------------------------------------------------------------------- */\n",
    "\n",
    "int func(integer ndim, const doublereal *u, const integer *icp, \n",
    "\tconst doublereal *par, integer ijac, doublereal *f, doublereal *dfdu, \n",
    "\tdoublereal *dfdp)\n",
    "{\n",
    "\n",
    "    doublereal x = u[0];\n",
    "    doublereal lambda = par[0], mu = par[1];\n",
    "\n",
    "    f[0] = mu + lambda*x - x*x*x;\n",
    "\n",
    "    return 0;\n",
    "} /* func */\n",
    "\n",
    "\n",
    "int stpnt(integer ndim, doublereal t, doublereal *u, doublereal *par)\n",
    "{\n",
    "    /* Function Body */\n",
    "    /* mu */\n",
    "    par[0] = 1.0;\n",
    "    /* lambda */\n",
    "    par[1] = 0.0;\n",
    "\n",
    "    /* x */\n",
    "    u[0] = 0.0;\n",
    "    return 0;\n",
    "} /* stpnt */\n",
    "\n",
    "\n",
    "/* Subroutine */ int pvls(integer ndim, const doublereal *u,\n",
    "          doublereal *par)\n",
    "{\n",
    "    return 0;\n",
    "} /* pvls */\n",
    "\n",
    "\n",
    "/* Subroutine */ int bcnd(integer ndim, const doublereal *par, const integer *icp,\n",
    "          integer nbc, const doublereal *u0, const doublereal *u1, integer ijac,\n",
    "          doublereal *fb, doublereal *dbc)\n",
    "{\n",
    "    return 0;\n",
    "} /* bcnd */\n",
    "\n",
    "\n",
    "/* Subroutine */ int icnd(integer ndim, const doublereal *par, const integer *icp,\n",
    "          integer nint, const doublereal *u, const doublereal *uold,\n",
    "          const doublereal *udot, const doublereal *upold, integer ijac,\n",
    "          doublereal *fi, doublereal *dint)\n",
    "{\n",
    "    return 0;\n",
    "} /* icnd */\n",
    "\n",
    "\n",
    "/* Subroutine */ int fopt(integer ndim, const doublereal *u, const integer *icp,\n",
    "          const doublereal *par, integer ijac,\n",
    "          doublereal *fs, doublereal *dfdu, doublereal *dfdp)\n",
    "{\n",
    "    return 0;\n",
    "} /* fopt */\n"
   ]
  },
  {
   "cell_type": "markdown",
   "id": "c7fdc026",
   "metadata": {},
   "source": [
    " Load the files cusp.c and c.cusp into the AUTO\n",
    " command interpreter."
   ]
  },
  {
   "cell_type": "code",
   "execution_count": null,
   "id": "850a7610",
   "metadata": {
    "tags": []
   },
   "outputs": [],
   "source": [
    "cusp = auto.load('cusp_c',\n",
    "                parnames = {1:'lambda', 2:'mu'},\n",
    "                unames = {1:'x'},\n",
    "                NDIM=   1, IPS =   1, IRS =   0, ILP =   1,\n",
    "                ICP =  ['mu', 'lambda'],\n",
    "                NTST=   5, NCOL=   4, IAD =   3, ISP =   2, ISW = 1, IPLT= 0, NBC= 0, NINT= 0,\n",
    "                NMX=  200, NPR=   20, MXBF=   0, IID =   2, ITMX= 8, ITNW= 5, NWTN= 3, JAC= 0,\n",
    "                EPSL= 1e-06, EPSU = 1e-06, EPSS =0.0001,\n",
    "                DS  =  0.01, DSMIN= 0.005, DSMAX=   0.1, IADS=   1,\n",
    "                NPAR = 2, THL =  {}, THU =  {},\n",
    "                UZSTOP = {'mu': [-2.0, 2.0]}\n",
    ")"
   ]
  },
  {
   "cell_type": "markdown",
   "id": "b8473203",
   "metadata": {},
   "source": [
    " Run and store the result in the Python variable mu"
   ]
  },
  {
   "cell_type": "code",
   "execution_count": null,
   "id": "073b8d7c",
   "metadata": {},
   "outputs": [],
   "source": [
    "mu = auto.run(cusp)"
   ]
  },
  {
   "cell_type": "markdown",
   "id": "a2374d4b",
   "metadata": {},
   "source": [
    " Run backwards, and append to mu"
   ]
  },
  {
   "cell_type": "code",
   "execution_count": null,
   "id": "c5fc8cf7",
   "metadata": {},
   "outputs": [],
   "source": [
    "mu = mu + auto.run(cusp,DS='-')"
   ]
  },
  {
   "cell_type": "markdown",
   "id": "ad7bca97",
   "metadata": {},
   "source": [
    " Relabel solutions"
   ]
  },
  {
   "cell_type": "code",
   "execution_count": null,
   "id": "737a6812",
   "metadata": {},
   "outputs": [],
   "source": [
    "mu = auto.relabel(mu)"
   ]
  },
  {
   "cell_type": "markdown",
   "id": "2972cbbd",
   "metadata": {},
   "source": [
    " Save to b.mu, s.mu, and d.mu"
   ]
  },
  {
   "cell_type": "code",
   "execution_count": null,
   "id": "62f0c888",
   "metadata": {},
   "outputs": [],
   "source": [
    "auto.save(mu,'mu')"
   ]
  },
  {
   "cell_type": "markdown",
   "id": "497983a9",
   "metadata": {},
   "source": [
    " Plot bifurcation diagram\n",
    " \n",
    "(Unhide the following cell to adjust the plotting defaults)."
   ]
  },
  {
   "cell_type": "code",
   "execution_count": null,
   "id": "72f617ee",
   "metadata": {
    "jupyter": {
     "source_hidden": true
    },
    "tags": []
   },
   "outputs": [],
   "source": [
    "%%writefile autorc\n",
    "[AUTO_plotter]\n",
    "\n",
    "#default_option=\"d1\"\n",
    "#d1 = {\"grid\": \"no\", \"use_labels\": 1, \"use_symbols\": 1, \"stability\": 1}\n",
    "# similarly you can redefine d0, d2, d3, d4.\n",
    "\n",
    "#grid = \"no\"\n",
    "#stability = 0\n",
    "#use_labels = 1\n",
    "#use_symbols = 1\n",
    "\n",
    "#top_title = ''\n",
    "#top_title_fontsize = 12\n",
    "\n",
    "#xlabel = ''\n",
    "#xlabel_fontsize = 12\n",
    "#ylabel = ''\n",
    "#ylabel_fontsize = 12\n",
    "\n",
    "#solution_indepvarname = \"time\"\n",
    "#solution_coordnames = [\"$x$\",\"$y$\",\"$z$\"]\n",
    "#bifurcation_coordnames = [\"?\", \"L2-norm\"]\n",
    "\n",
    "#line_width = 2.0\n",
    "#dashes = (6.0,6.0)\n",
    "#background = \"white\"\n",
    "#foreground = \"black\"\n",
    "#color_list = \"black red green blue\"\n",
    "#symbol_color = \"red\"\n",
    "#symbol_font = \"-misc-fixed-*-*-*-*-*-*-*-*-*-*-*-*\"\n",
    "#decorations = 1\n",
    "#smart_label = 1\n",
    "#minx = 0\n",
    "#maxx = 0\n",
    "#miny = 0\n",
    "#maxy = 0\n",
    "#width = 600\n",
    "#height = 480\n",
    "#left_margin = 80\n",
    "#right_margin = 40\n",
    "#top_margin = 40\n",
    "#bottom_margin = 40\n",
    "#xticks = 5\n",
    "#yticks = 5\n",
    "#tick_label_template = \"%.2e\"\n",
    "#tick_length = 0.2\n",
    "#odd_tick_length = 0.4\n",
    "#even_tick_length = 0.2\n",
    "#ps_colormode = \"color\"\n",
    "#mark_t = None #or a real value between 0 and 1\n",
    "\n",
    "#type = \"bifurcation\" # or \"solution\"\n",
    "\n",
    "#bifurcation_x = [0]\n",
    "#bifurcation_y = [1]\n",
    "\n",
    "#solution_x = [\"t\"]\n",
    "#solution_y = [0]\n",
    "\n",
    "## Sets of columns that the user is likely to want to use\n",
    "#bifurcation_column_defaults = None\n",
    "#solution_column_defaults = None\n",
    "\n",
    "# The label(s) of the solution we wish to draw\n",
    "#label = [1,2,3]\n",
    "#label_defaults = None\n",
    "# The index/indices of the solution we wish to draw\n",
    "#index = [0]\n",
    "\n",
    "#bifurcation_diagram_filename = 'fort.7'\n",
    "#solution_filename = 'fort.8'\n",
    "\n",
    "#bifurcation_symbol = \"square\"\n",
    "#limit_point_symbol = None\n",
    "#hopf_symbol = \"fillsquare\"\n",
    "#period_doubling_symbol = \"doubletriangle\"\n",
    "#torus_symbol = \"filldiamond\"\n",
    "#user_point_symbol = \"U\"\n",
    "#error_symbol = None\n",
    "\n"
   ]
  },
  {
   "cell_type": "code",
   "execution_count": null,
   "id": "818f2093",
   "metadata": {},
   "outputs": [],
   "source": [
    "p = auto.plot(mu)\n",
    "p.config(bifurcation_y=['x'])"
   ]
  },
  {
   "cell_type": "markdown",
   "id": "296e7d16",
   "metadata": {},
   "source": [
    " Set the new start label to the first LP label in b.mu and s.mu"
   ]
  },
  {
   "cell_type": "code",
   "execution_count": null,
   "id": "7ed0bb60",
   "metadata": {},
   "outputs": [],
   "source": [
    "lp1 = auto.load(mu('LP1'), ISW=2)"
   ]
  },
  {
   "cell_type": "markdown",
   "id": "4d11083f",
   "metadata": {},
   "source": [
    " Continue from this label in two parameters"
   ]
  },
  {
   "cell_type": "code",
   "execution_count": null,
   "id": "a4902f72",
   "metadata": {},
   "outputs": [],
   "source": [
    "cusp = auto.run(lp1)\n",
    "cusp = cusp + auto.run(lp1,DS='-')"
   ]
  },
  {
   "cell_type": "markdown",
   "id": "f992ee3b",
   "metadata": {},
   "source": [
    " save to b.cusp, s.cusp, and d.cusp"
   ]
  },
  {
   "cell_type": "code",
   "execution_count": null,
   "id": "d5d453db",
   "metadata": {},
   "outputs": [],
   "source": [
    "auto.save(cusp,'cusp')"
   ]
  },
  {
   "cell_type": "markdown",
   "id": "5d4ebba2",
   "metadata": {},
   "source": [
    " Plot the cusp"
   ]
  },
  {
   "cell_type": "code",
   "execution_count": null,
   "id": "355a8821",
   "metadata": {},
   "outputs": [],
   "source": [
    "p = auto.plot(cusp)\n",
    "p.config(bifurcation_y=['lambda'])"
   ]
  },
  {
   "cell_type": "code",
   "execution_count": null,
   "id": "01f54937",
   "metadata": {},
   "outputs": [],
   "source": [
    "# Stop automatic execution at this point\n",
    "assert(False)"
   ]
  },
  {
   "cell_type": "markdown",
   "id": "caf82925",
   "metadata": {},
   "source": [
    "clean the directory"
   ]
  },
  {
   "cell_type": "code",
   "execution_count": null,
   "id": "441921ea",
   "metadata": {
    "tags": []
   },
   "outputs": [],
   "source": [
    "# comment out to clean directory\n",
    "auto.delete(\"mu\")\n",
    "auto.delete(\"cusp\")\n",
    "auto.clean()\n",
    "!rm -f cusp_c.c autorc"
   ]
  },
  {
   "cell_type": "code",
   "execution_count": null,
   "id": "5f6b636d",
   "metadata": {},
   "outputs": [],
   "source": []
  }
 ],
 "metadata": {
  "kernelspec": {
   "display_name": "Python 3 (ipykernel)",
   "language": "python",
   "name": "python3"
  },
  "language_info": {
   "codemirror_mode": {
    "name": "ipython",
    "version": 3
   },
   "file_extension": ".py",
   "mimetype": "text/x-python",
   "name": "python",
   "nbconvert_exporter": "python",
   "pygments_lexer": "ipython3",
   "version": "3.10.10"
  }
 },
 "nbformat": 4,
 "nbformat_minor": 5
}
