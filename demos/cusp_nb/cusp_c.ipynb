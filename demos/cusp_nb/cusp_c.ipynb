{
 "cells": [
  {
   "cell_type": "code",
   "execution_count": null,
   "id": "e91f180f",
   "metadata": {
    "tags": []
   },
   "outputs": [],
   "source": [
    "import os\n",
    "import sys\n",
    "\n",
    "\n",
    "try:\n",
    "    AUTO_DIR=os.environ[\"AUTO_DIR\"]        \n",
    "    sys.path.append(os.path.join(AUTO_DIR, \"python\") )\n",
    "except KeyError:\n",
    "    pass\n"
   ]
  },
  {
   "cell_type": "code",
   "execution_count": null,
   "id": "add537a7",
   "metadata": {
    "tags": []
   },
   "outputs": [],
   "source": [
    "import auto"
   ]
  },
  {
   "cell_type": "markdown",
   "id": "86d32cdc",
   "metadata": {},
   "source": [
    " AUTO Demo cusp\n",
    "===============\n",
    "\n",
    "Let us study the dynamical system \n",
    "\\begin{equation}\n",
    "\\frac{d}{dt} x(t) = \\mu + \\lambda x - x^3\n",
    "\\end{equation}\n",
    "\n",
    "There is a fixed point at $x_0=0$ for $\\lambda_0 = 1.0$, $\\mu_0=0$, which we will use as a starting point from which we explore the bifurcations.\n",
    "\n",
    "Define python variables `unames` and `parnames` which describe the dynamical variables and parameters of the system:\n"
   ]
  },
  {
   "cell_type": "code",
   "execution_count": null,
   "id": "ad494d7a-9f5d-4509-a579-36c4b98a7f9c",
   "metadata": {
    "tags": []
   },
   "outputs": [],
   "source": [
    "unames = [\"x\"]\n",
    "parnames = [\"lambda\", \"mu\"]\n",
    "\n",
    "# make some dicts for later use\n",
    "unames = dict(enumerate(unames, start=1))\n",
    "parnames = dict(enumerate(parnames, start=1))"
   ]
  },
  {
   "cell_type": "markdown",
   "id": "6f9c98cf-7493-4707-94b4-623afe510b9f",
   "metadata": {},
   "source": [
    "Note that indices start with `1` in Fortran and with `0` in C. "
   ]
  },
  {
   "cell_type": "markdown",
   "id": "76f23012-9ba4-4e88-8637-b3c98c055cbf",
   "metadata": {},
   "source": [
    "Create the `cusp_c.c` file. This contains the enum definitions\n",
    "```c\n",
    "enum unames {x};\n",
    "enum parnames {lambda, mu}; \n",
    "```\n",
    "similar to the corresponding variables in Python. \n",
    "\n",
    "The RHS of the dynamical system is then realised through the function\n",
    "\n",
    "```c\n",
    "int func(integer ndim, const doublereal *u, const integer *icp, \n",
    "         const doublereal *par, integer ijac, doublereal *f, doublereal *dfdu, \n",
    "         doublereal *dfdp)\n",
    "{\n",
    "    f[x] = par[mu] + par[lambda]*u[x] - u[x]*u[x]*u[x];\n",
    "    return 0;\n",
    "} \n",
    "```\n",
    "Finally we have a function which defines the starting point $(x_0; \\lambda_0, \\mu_0)$\n",
    "\n",
    "```c\n",
    "int stpnt(integer ndim, doublereal t, doublereal *u, doublereal *par)\n",
    "{\n",
    "    u[x] = 0.0; \n",
    "    par[lambda] = 1.0; \n",
    "    par[mu] = 0.0; \n",
    "    return 0;\n",
    "} \n",
    "```\n",
    "\n",
    "The remaining functions `pvls()`, `bcnd()`, `icnd()`, and `fopt()` are not required here. They are simply defined as returning zero. \n",
    "\n",
    "Unhide the following cell to edit the source code. "
   ]
  },
  {
   "cell_type": "code",
   "execution_count": null,
   "id": "307c3b66",
   "metadata": {
    "jupyter": {
     "source_hidden": true
    },
    "tags": []
   },
   "outputs": [],
   "source": [
    "%%writefile cusp_c.c\n",
    "#include \"auto_f2c.h\"\n",
    "\n",
    "/* ---------------------------------------------------------------------- */\n",
    "/*   cusp_c.c - cusp normal form                                          */\n",
    "/* ---------------------------------------------------------------------- */\n",
    "\n",
    "enum unames {x};\n",
    "enum parnames {lambda, mu}; \n",
    "\n",
    "int func(integer ndim, const doublereal *u, const integer *icp, \n",
    "         const doublereal *par, integer ijac, doublereal *f, doublereal *dfdu, \n",
    "         doublereal *dfdp)\n",
    "{\n",
    "    f[x] = par[mu] + par[lambda]*u[x] - u[x]*u[x]*u[x];\n",
    "    return 0;\n",
    "} \n",
    "\n",
    "int stpnt(integer ndim, doublereal t, doublereal *u, doublereal *par)\n",
    "{\n",
    "    u[x] = 0.0; \n",
    "    par[lambda] = 1.0; \n",
    "    par[mu] = 0.0; \n",
    "    return 0;\n",
    "} \n",
    "\n",
    "int pvls(integer ndim, const doublereal *u, doublereal *par)\n",
    "{ return 0; } \n",
    "\n",
    "int bcnd(integer ndim, const doublereal *par, const integer *icp, integer nbc, \n",
    "         const doublereal *u0, const doublereal *u1, integer ijac, doublereal *fb, \n",
    "         doublereal *dbc)\n",
    "{ return 0; } \n",
    "\n",
    "int icnd(integer ndim, const doublereal *par, const integer *icp, integer nint, \n",
    "         const doublereal *u, const doublereal *uold, const doublereal *udot, \n",
    "         const doublereal *upold, integer ijac, doublereal *fi, doublereal *dint)\n",
    "{ return 0; } \n",
    "\n",
    "int fopt(integer ndim, const doublereal *u, const integer *icp, const doublereal *par, \n",
    "         integer ijac, doublereal *fs, doublereal *dfdu, doublereal *dfdp)\n",
    "{ return 0; } \n"
   ]
  },
  {
   "cell_type": "markdown",
   "id": "c7fdc026",
   "metadata": {},
   "source": [
    "Load the starting solution."
   ]
  },
  {
   "cell_type": "code",
   "execution_count": null,
   "id": "850a7610",
   "metadata": {
    "tags": []
   },
   "outputs": [],
   "source": [
    "cusp = auto.load(e='cusp_c',\n",
    "                parnames = parnames, \n",
    "                unames = unames, \n",
    "                NDIM=   len(unames), IPS =   1, IRS =   0, ILP =   1,\n",
    "                ICP =  ['mu', 'lambda'],\n",
    "                NTST=   5, NCOL=   4, IAD =   3, ISP =   2, ISW = 1, IPLT= 0, NBC = 0, NINT= 0,\n",
    "                NMX = 200, NPR =  20, MXBF=   0, IID =   2, ITMX= 8, ITNW= 5, NWTN= 3, JAC = 0,\n",
    "                EPSL= 1e-06, EPSU = 1e-06, EPSS =0.0001,\n",
    "                DS  =  0.01, DSMIN= 0.005, DSMAX=   0.1, IADS=   1,\n",
    "                NPAR = len(parnames), THL =  {}, THU =  {},\n",
    "                UZSTOP = {'mu': [-2.0, 2.0]}\n",
    ")"
   ]
  },
  {
   "cell_type": "markdown",
   "id": "b8473203",
   "metadata": {},
   "source": [
    " Run and store the result in the Python variable mu"
   ]
  },
  {
   "cell_type": "code",
   "execution_count": null,
   "id": "073b8d7c",
   "metadata": {
    "tags": []
   },
   "outputs": [],
   "source": [
    "mu = auto.run(cusp)"
   ]
  },
  {
   "cell_type": "markdown",
   "id": "a2374d4b",
   "metadata": {},
   "source": [
    " Run backwards, and append to mu"
   ]
  },
  {
   "cell_type": "code",
   "execution_count": null,
   "id": "c5fc8cf7",
   "metadata": {
    "tags": []
   },
   "outputs": [],
   "source": [
    "mu = mu + auto.run(cusp,DS='-')"
   ]
  },
  {
   "cell_type": "markdown",
   "id": "ad7bca97",
   "metadata": {},
   "source": [
    " Relabel solutions"
   ]
  },
  {
   "cell_type": "code",
   "execution_count": null,
   "id": "737a6812",
   "metadata": {},
   "outputs": [],
   "source": [
    "mu = auto.relabel(mu)"
   ]
  },
  {
   "cell_type": "markdown",
   "id": "2972cbbd",
   "metadata": {},
   "source": [
    " Save to b.mu, s.mu, and d.mu"
   ]
  },
  {
   "cell_type": "code",
   "execution_count": null,
   "id": "62f0c888",
   "metadata": {},
   "outputs": [],
   "source": [
    "auto.save(mu,'mu')"
   ]
  },
  {
   "cell_type": "markdown",
   "id": "497983a9",
   "metadata": {},
   "source": [
    " Plot bifurcation diagram\n",
    " \n",
    "(Unhide the following cell to adjust the plotting defaults)."
   ]
  },
  {
   "cell_type": "code",
   "execution_count": null,
   "id": "72f617ee",
   "metadata": {
    "jupyter": {
     "source_hidden": true
    },
    "tags": []
   },
   "outputs": [],
   "source": [
    "%%writefile autorc\n",
    "[AUTO_plotter]\n",
    "\n",
    "#default_option=\"d1\"\n",
    "#d1 = {\"grid\": \"no\", \"use_labels\": 1, \"use_symbols\": 1, \"stability\": 1}\n",
    "# similarly you can redefine d0, d2, d3, d4.\n",
    "\n",
    "#grid = \"no\"\n",
    "#stability = 0\n",
    "#use_labels = 1\n",
    "#use_symbols = 1\n",
    "\n",
    "#top_title = ''\n",
    "#top_title_fontsize = 12\n",
    "\n",
    "#xlabel = ''\n",
    "#xlabel_fontsize = 12\n",
    "#ylabel = ''\n",
    "#ylabel_fontsize = 12\n",
    "\n",
    "#solution_indepvarname = \"time\"\n",
    "#solution_coordnames = [\"$x$\",\"$y$\",\"$z$\"]\n",
    "#bifurcation_coordnames = [\"?\", \"L2-norm\"]\n",
    "\n",
    "#line_width = 2.0\n",
    "#dashes = (6.0,6.0)\n",
    "#background = \"white\"\n",
    "#foreground = \"black\"\n",
    "#color_list = \"black red green blue\"\n",
    "#symbol_color = \"red\"\n",
    "#symbol_font = \"-misc-fixed-*-*-*-*-*-*-*-*-*-*-*-*\"\n",
    "#decorations = 1\n",
    "#smart_label = 1\n",
    "#minx = 0\n",
    "#maxx = 0\n",
    "#miny = 0\n",
    "#maxy = 0\n",
    "#width = 600\n",
    "#height = 480\n",
    "#left_margin = 80\n",
    "#right_margin = 40\n",
    "#top_margin = 40\n",
    "#bottom_margin = 40\n",
    "#xticks = 5\n",
    "#yticks = 5\n",
    "#tick_label_template = \"%.2e\"\n",
    "#tick_length = 0.2\n",
    "#odd_tick_length = 0.4\n",
    "#even_tick_length = 0.2\n",
    "#ps_colormode = \"color\"\n",
    "#mark_t = None #or a real value between 0 and 1\n",
    "\n",
    "#type = \"bifurcation\" # or \"solution\"\n",
    "\n",
    "#bifurcation_x = [0]\n",
    "#bifurcation_y = [1]\n",
    "\n",
    "#solution_x = [\"t\"]\n",
    "#solution_y = [0]\n",
    "\n",
    "## Sets of columns that the user is likely to want to use\n",
    "#bifurcation_column_defaults = None\n",
    "#solution_column_defaults = None\n",
    "\n",
    "# The label(s) of the solution we wish to draw\n",
    "#label = [1,2,3]\n",
    "#label_defaults = None\n",
    "# The index/indices of the solution we wish to draw\n",
    "#index = [0]\n",
    "\n",
    "#bifurcation_diagram_filename = 'fort.7'\n",
    "#solution_filename = 'fort.8'\n",
    "\n",
    "#bifurcation_symbol = \"square\"\n",
    "#limit_point_symbol = None\n",
    "#hopf_symbol = \"fillsquare\"\n",
    "#period_doubling_symbol = \"doubletriangle\"\n",
    "#torus_symbol = \"filldiamond\"\n",
    "#user_point_symbol = \"U\"\n",
    "#error_symbol = None\n",
    "\n"
   ]
  },
  {
   "cell_type": "code",
   "execution_count": null,
   "id": "818f2093",
   "metadata": {},
   "outputs": [],
   "source": [
    "p = auto.plot(mu)\n",
    "p.config(bifurcation_y=['x'])"
   ]
  },
  {
   "cell_type": "markdown",
   "id": "296e7d16",
   "metadata": {},
   "source": [
    " Set the new start label to the first LP label in b.mu and s.mu"
   ]
  },
  {
   "cell_type": "code",
   "execution_count": null,
   "id": "7ed0bb60",
   "metadata": {},
   "outputs": [],
   "source": [
    "lp1 = auto.load(mu('LP1'), ISW=2)"
   ]
  },
  {
   "cell_type": "markdown",
   "id": "4d11083f",
   "metadata": {},
   "source": [
    " Continue from this label in two parameters"
   ]
  },
  {
   "cell_type": "code",
   "execution_count": null,
   "id": "a4902f72",
   "metadata": {},
   "outputs": [],
   "source": [
    "cusp = auto.run(lp1)\n",
    "cusp = cusp + auto.run(lp1,DS='-')"
   ]
  },
  {
   "cell_type": "markdown",
   "id": "f992ee3b",
   "metadata": {},
   "source": [
    " save to b.cusp, s.cusp, and d.cusp"
   ]
  },
  {
   "cell_type": "code",
   "execution_count": null,
   "id": "d5d453db",
   "metadata": {},
   "outputs": [],
   "source": [
    "auto.save(cusp,'cusp')"
   ]
  },
  {
   "cell_type": "markdown",
   "id": "5d4ebba2",
   "metadata": {},
   "source": [
    " Plot the cusp"
   ]
  },
  {
   "cell_type": "code",
   "execution_count": null,
   "id": "355a8821",
   "metadata": {},
   "outputs": [],
   "source": [
    "p = auto.plot(cusp)\n",
    "p.config(bifurcation_y=['lambda'])"
   ]
  },
  {
   "cell_type": "code",
   "execution_count": null,
   "id": "01f54937",
   "metadata": {},
   "outputs": [],
   "source": [
    "# Stop automatic execution at this point\n",
    "assert(False)"
   ]
  },
  {
   "cell_type": "markdown",
   "id": "caf82925",
   "metadata": {},
   "source": [
    "clean the directory"
   ]
  },
  {
   "cell_type": "code",
   "execution_count": null,
   "id": "441921ea",
   "metadata": {
    "tags": []
   },
   "outputs": [],
   "source": [
    "# comment out to clean directory\n",
    "auto.delete(\"mu\")\n",
    "auto.delete(\"cusp\")\n",
    "auto.clean()\n",
    "#!rm -f cusp_c.c autorc"
   ]
  },
  {
   "cell_type": "markdown",
   "id": "e1de3621-6554-44f2-ab3d-fef3dc822f51",
   "metadata": {},
   "source": [
    "## Use low level interface\n",
    "\n",
    "to work with less \"state\" use the low-level interface.  The following might not be guaranteed to work as it is not officially documented in the handbook. Use with care. "
   ]
  },
  {
   "cell_type": "markdown",
   "id": "20f2a87b-904b-4334-b6b6-57996a6fae60",
   "metadata": {},
   "source": [
    "We define `unames` and `parnames` as before, and additionally collect all constants for our system in a `constants` variable. "
   ]
  },
  {
   "cell_type": "code",
   "execution_count": null,
   "id": "d6c5c74d-f5c0-495c-b082-d46140d3ffe5",
   "metadata": {
    "tags": []
   },
   "outputs": [],
   "source": [
    "unames = [\"x\"]\n",
    "parnames = [\"lambda\", \"mu\"]\n",
    "\n",
    "unames = dict(enumerate(unames, start=1))\n",
    "parnames = dict(enumerate(parnames, start=1))\n",
    "\n",
    "constants = auto.parseC.parseC(\n",
    "    e = \"cusp_c\",\n",
    "    unames = unames, parnames = parnames, \n",
    "    NDIM = len(unames), NPAR = len(parnames),\n",
    "\n",
    "    NPR = 20, # print after NPR points\n",
    "    NMX = 200, # max number of points per run\n",
    "    MXBF = 0, # Don't follow bifus automatically\n",
    "    UZSTOP = {'mu': [-2.0, 2.0]}\n",
    ")"
   ]
  },
  {
   "cell_type": "markdown",
   "id": "32dbc360-0f83-45ad-8885-8217ba08980c",
   "metadata": {},
   "source": [
    "Here we refer to a `\"cusp_c\"` engine, which is defined almost as before. The only difference is that we now will not require the `stpnt()` function, as we will later define the starting point in Python. (Unhide to edit)"
   ]
  },
  {
   "cell_type": "code",
   "execution_count": null,
   "id": "2dd052e5-73a9-44d0-b6ee-fc7fdd47b9a6",
   "metadata": {
    "jupyter": {
     "source_hidden": true
    },
    "tags": []
   },
   "outputs": [],
   "source": [
    "%%writefile cusp_c.c\n",
    "#include \"auto_f2c.h\"\n",
    "\n",
    "/* ---------------------------------------------------------------------- */\n",
    "/*   cusp_c.c - cusp normal form                                          */\n",
    "/* ---------------------------------------------------------------------- */\n",
    "\n",
    "enum unames {x};\n",
    "enum parnames {lambda, mu}; \n",
    "\n",
    "int func(integer ndim, const doublereal *u, const integer *icp, \n",
    "         const doublereal *par, integer ijac, doublereal *f, doublereal *dfdu, \n",
    "         doublereal *dfdp)\n",
    "{\n",
    "    f[x] = par[mu] + par[lambda]*u[x] - u[x]*u[x]*u[x];\n",
    "    return 0;\n",
    "} \n",
    "\n",
    "int stpnt(integer ndim, doublereal t, doublereal *u, doublereal *par)\n",
    "{ return 0; }\n",
    "\n",
    "int pvls(integer ndim, const doublereal *u, doublereal *par)\n",
    "{ return 0; } \n",
    "\n",
    "int bcnd(integer ndim, const doublereal *par, const integer *icp, integer nbc, \n",
    "         const doublereal *u0, const doublereal *u1, integer ijac, doublereal *fb, \n",
    "         doublereal *dbc)\n",
    "{ return 0; } \n",
    "\n",
    "int icnd(integer ndim, const doublereal *par, const integer *icp, integer nint, \n",
    "         const doublereal *u, const doublereal *uold, const doublereal *udot, \n",
    "         const doublereal *upold, integer ijac, doublereal *fi, doublereal *dint)\n",
    "{ return 0; } \n",
    "\n",
    "int fopt(integer ndim, const doublereal *u, const integer *icp, const doublereal *par, \n",
    "         integer ijac, doublereal *fs, doublereal *dfdu, doublereal *dfdp)\n",
    "{ return 0; } \n"
   ]
  },
  {
   "cell_type": "markdown",
   "id": "0f175fd2-99ab-4e55-b5f5-c5903337d389",
   "metadata": {},
   "source": [
    "The starting point is defined through:"
   ]
  },
  {
   "cell_type": "code",
   "execution_count": null,
   "id": "8f81f631-2f67-4ee3-aa5a-ed9e651a32aa",
   "metadata": {
    "tags": []
   },
   "outputs": [],
   "source": [
    "u0 = [0.0]\n",
    "par0 = {\"lambda\": 1.0, \"mu\": 0.0}\n",
    "sol0 = auto.parseS.AUTOSolution(u0, PAR=par0, constants=constants)"
   ]
  },
  {
   "cell_type": "markdown",
   "id": "bcdbbbd7-c516-41a3-bc72-c1f97bdd62ca",
   "metadata": {},
   "source": [
    "We do not want to depend on the global \"runner\" which is responsible for much of the state introduced between different calls to `auto.run()`.  Instead we use `AUTOSolution.run()` which creates a fresh runner each time we run it. "
   ]
  },
  {
   "cell_type": "code",
   "execution_count": null,
   "id": "640a1d9f-c157-489d-a6af-9dc01abe387d",
   "metadata": {
    "tags": []
   },
   "outputs": [],
   "source": [
    "mu = sol0.run(ICP = ['mu', 'lambda'])"
   ]
  },
  {
   "cell_type": "markdown",
   "id": "fdebbc26-b742-4867-812c-39f66b90fde3",
   "metadata": {},
   "source": [
    " Run backwards, and append to mu"
   ]
  },
  {
   "cell_type": "code",
   "execution_count": null,
   "id": "8e229ef2-20e8-4407-8c44-c901abab538b",
   "metadata": {
    "tags": []
   },
   "outputs": [],
   "source": [
    "mu = mu + sol0.run(DS='-',ICP = ['mu', 'lambda'])"
   ]
  },
  {
   "cell_type": "markdown",
   "id": "d84ee42e-1925-4bbf-ad3b-c49a4d270821",
   "metadata": {},
   "source": [
    " Relabel solutions"
   ]
  },
  {
   "cell_type": "code",
   "execution_count": null,
   "id": "ef34543c-e39f-4cca-b293-8d22bd3d539c",
   "metadata": {
    "tags": []
   },
   "outputs": [],
   "source": [
    "mu = mu.relabel()"
   ]
  },
  {
   "cell_type": "markdown",
   "id": "00c0f024-0018-4eae-ae57-3c03601c79fa",
   "metadata": {},
   "source": [
    " Plot bifurcation diagram (this uses the `autorc` file from before)"
   ]
  },
  {
   "cell_type": "code",
   "execution_count": null,
   "id": "8fca43f4-bdb9-4ce5-83f3-04b6df9156ab",
   "metadata": {},
   "outputs": [],
   "source": [
    "p = auto.plot(mu)\n",
    "p.config(bifurcation_y=['x'])"
   ]
  },
  {
   "cell_type": "markdown",
   "id": "d52fbb4e-6739-4e92-8fe7-6432680f053e",
   "metadata": {},
   "source": [
    " Set the new start label to the first LP label in b.mu and s.mu"
   ]
  },
  {
   "cell_type": "code",
   "execution_count": null,
   "id": "c57eb9e9-7b73-44f7-87a3-2789144e1432",
   "metadata": {
    "tags": []
   },
   "outputs": [],
   "source": [
    "lp1 = mu(\"LP1\")"
   ]
  },
  {
   "cell_type": "markdown",
   "id": "03cffbb2-c0a6-40e7-9c60-78e36c809fda",
   "metadata": {},
   "source": [
    "Continue from this label in two parameters"
   ]
  },
  {
   "cell_type": "code",
   "execution_count": null,
   "id": "6cb234a9-6c85-4e24-b3f4-43563e41f49b",
   "metadata": {
    "tags": []
   },
   "outputs": [],
   "source": [
    "cusp = lp1.run(ISW=2) + lp1.run(ISW=2, DS=\"-\")\n",
    "cusp = cusp.relabel()"
   ]
  },
  {
   "cell_type": "markdown",
   "id": "11d81d9e-0d74-406a-a629-94acd73914e1",
   "metadata": {},
   "source": [
    " Plot the cusp"
   ]
  },
  {
   "cell_type": "code",
   "execution_count": null,
   "id": "947e6fd9-2d9f-49e8-bc52-38685aae2cf2",
   "metadata": {},
   "outputs": [],
   "source": [
    "p = auto.plot(cusp)\n",
    "p.config(bifurcation_y=['lambda'])\n",
    "p.config(minx=-2, maxx=2, miny=0, maxy=3)"
   ]
  },
  {
   "cell_type": "code",
   "execution_count": null,
   "id": "0430d519-d28b-48c3-84ab-dcae7b6016f6",
   "metadata": {},
   "outputs": [],
   "source": [
    "# Stop automatic execution at this point\n",
    "assert(False)"
   ]
  },
  {
   "cell_type": "code",
   "execution_count": null,
   "id": "a1e4d0a5-945e-4664-a2c2-ed1468d53243",
   "metadata": {
    "tags": []
   },
   "outputs": [],
   "source": [
    "# comment out to clean directory\n",
    "auto.clean()\n",
    "!rm -f cusp_c.c "
   ]
  },
  {
   "cell_type": "code",
   "execution_count": null,
   "id": "b443afa3-5419-46f1-a55e-d68d588d574d",
   "metadata": {},
   "outputs": [],
   "source": []
  }
 ],
 "metadata": {
  "kernelspec": {
   "display_name": "Python 3 (ipykernel)",
   "language": "python",
   "name": "python3"
  },
  "language_info": {
   "codemirror_mode": {
    "name": "ipython",
    "version": 3
   },
   "file_extension": ".py",
   "mimetype": "text/x-python",
   "name": "python",
   "nbconvert_exporter": "python",
   "pygments_lexer": "ipython3",
   "version": "3.10.10"
  }
 },
 "nbformat": 4,
 "nbformat_minor": 5
}
