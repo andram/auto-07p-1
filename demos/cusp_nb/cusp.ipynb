{
 "cells": [
  {
   "cell_type": "code",
   "execution_count": null,
   "id": "add537a7",
   "metadata": {},
   "outputs": [],
   "source": [
    "import auto"
   ]
  },
  {
   "cell_type": "markdown",
   "id": "86d32cdc",
   "metadata": {},
   "source": [
    " AUTO Demo cusp\n",
    "==============="
   ]
  },
  {
   "cell_type": "markdown",
   "id": "76f23012-9ba4-4e88-8637-b3c98c055cbf",
   "metadata": {},
   "source": [
    "Create the `cusp.f90` file. Unhide the following cell to edit the source code."
   ]
  },
  {
   "cell_type": "code",
   "execution_count": null,
   "id": "307c3b66",
   "metadata": {
    "jupyter": {
     "source_hidden": true
    },
    "tags": []
   },
   "outputs": [],
   "source": [
    "%%writefile cusp.f90\n",
    "!----------------------------------------------------------------------\n",
    "!----------------------------------------------------------------------\n",
    "!   cusp.f90 - cusp normal form\n",
    "!----------------------------------------------------------------------\n",
    "!----------------------------------------------------------------------\n",
    "\n",
    "SUBROUTINE FUNC(NDIM,U,ICP,PAR,IJAC,F,DFDU,DFDP)\n",
    "!--------- ----\n",
    "\n",
    "! Evaluates the algebraic equations or ODE right hand side\n",
    "\n",
    "! Input arguments :\n",
    "!      NDIM   :   Dimension of the algebraic or ODE system \n",
    "!      U      :   State variables\n",
    "!      ICP    :   Array indicating the free parameter(s)\n",
    "!      PAR    :   Equation parameters\n",
    "\n",
    "! Values to be returned :\n",
    "!      F      :   Equation or ODE right hand side values\n",
    "\n",
    "! Normally unused Jacobian arguments : IJAC, DFDU, DFDP (see manual)\n",
    "\n",
    "  IMPLICIT NONE\n",
    "  INTEGER, INTENT(IN) :: NDIM, IJAC, ICP(*)\n",
    "  DOUBLE PRECISION, INTENT(IN) :: U(NDIM), PAR(*)\n",
    "  DOUBLE PRECISION, INTENT(OUT) :: F(NDIM)\n",
    "  DOUBLE PRECISION, INTENT(INOUT) :: DFDU(NDIM,NDIM),DFDP(NDIM,*)\n",
    "\n",
    "  DOUBLE PRECISION x, mu, lambda\n",
    "\n",
    "  x = U(1)\n",
    "  lambda = PAR(1)\n",
    "  mu = PAR(2)\n",
    "  F(1)= mu + lambda*x - x**3\n",
    "\n",
    "END SUBROUTINE FUNC\n",
    "\n",
    "!-----------------------------------------------------------------------\n",
    "!-----------------------------------------------------------------------\n",
    "\n",
    "SUBROUTINE STPNT(NDIM,U,PAR,T)\n",
    "!--------- -----\n",
    "\n",
    "! Input arguments :\n",
    "!      NDIM   :   Dimension of the algebraic or ODE system \n",
    "\n",
    "! Values to be returned :\n",
    "!      U      :   A starting solution vector\n",
    "!      PAR    :   The corresponding equation-parameter values\n",
    "\n",
    "! Note : For time- or space-dependent solutions this subroutine has\n",
    "!        the scalar input parameter T contains the varying time or space\n",
    "!        variable value.\n",
    "  \n",
    "  IMPLICIT NONE\n",
    "  INTEGER, INTENT(IN) :: NDIM\n",
    "  DOUBLE PRECISION, INTENT(INOUT) :: U(NDIM),PAR(*)\n",
    "  DOUBLE PRECISION, INTENT(IN) :: T\n",
    "\n",
    "! Initialize the equation parameters\n",
    "  PAR(1:2) = (/ 1.0d0, 0.0d0 /)\n",
    "\n",
    "! Initialize the solution\n",
    "  U(1) = 0.0d0\n",
    "   \n",
    "END SUBROUTINE STPNT\n",
    "\n",
    "!----------------------------------------------------------------------\n",
    "!----------------------------------------------------------------------\n",
    "\n",
    "SUBROUTINE BCND(NDIM,PAR,ICP,NBC,U0,U1,FB,IJAC,DBC)\n",
    "!--------- ----\n",
    "\n",
    "! Boundary Conditions\n",
    "\n",
    "! Input arguments :\n",
    "!      NDIM   :   Dimension of the ODE system \n",
    "!      PAR    :   Equation parameters\n",
    "!      ICP    :   Array indicating the free parameter(s)\n",
    "!      NBC    :   Number of boundary conditions\n",
    "!      U0     :   State variable values at the left boundary\n",
    "!      U1     :   State variable values at the right boundary\n",
    "\n",
    "! Values to be returned :\n",
    "!      FB     :   The values of the boundary condition functions \n",
    "\n",
    "! Normally unused Jacobian arguments : IJAC, DBC (see manual)\n",
    "\n",
    "  IMPLICIT NONE\n",
    "  INTEGER, INTENT(IN) :: NDIM, ICP(*), NBC, IJAC\n",
    "  DOUBLE PRECISION, INTENT(IN) :: PAR(*), U0(NDIM), U1(NDIM)\n",
    "  DOUBLE PRECISION, INTENT(OUT) :: FB(NBC)\n",
    "  DOUBLE PRECISION, INTENT(INOUT) :: DBC(NBC,*)\n",
    "\n",
    "!X FB(1)=\n",
    "!X FB(2)=\n",
    "\n",
    "END SUBROUTINE BCND\n",
    "\n",
    "!----------------------------------------------------------------------\n",
    "!----------------------------------------------------------------------\n",
    "\n",
    "SUBROUTINE ICND(NDIM,PAR,ICP,NINT,U,UOLD,UDOT,UPOLD,FI,IJAC,DINT)\n",
    "!--------- ----\n",
    "\n",
    "! Integral Conditions\n",
    "\n",
    "! Input arguments :\n",
    "!      NDIM   :   Dimension of the ODE system \n",
    "!      PAR    :   Equation parameters\n",
    "!      ICP    :   Array indicating the free parameter(s)\n",
    "!      NINT   :   Number of integral conditions\n",
    "!      U      :   Value of the vector function U at `time' t\n",
    "\n",
    "! The following input arguments, which are normally not needed,\n",
    "! correspond to the preceding point on the solution branch\n",
    "!      UOLD   :   The state vector at 'time' t\n",
    "!      UDOT   :   Derivative of UOLD with respect to arclength\n",
    "!      UPOLD  :   Derivative of UOLD with respect to `time'\n",
    "\n",
    "! Normally unused Jacobian arguments : IJAC, DINT\n",
    "\n",
    "! Values to be returned :\n",
    "!      FI     :   The value of the vector integrand \n",
    "\n",
    "  IMPLICIT NONE\n",
    "  INTEGER, INTENT(IN) :: NDIM, ICP(*), NINT, IJAC\n",
    "  DOUBLE PRECISION, INTENT(IN) :: PAR(*)\n",
    "  DOUBLE PRECISION, INTENT(IN) :: U(NDIM), UOLD(NDIM), UDOT(NDIM), UPOLD(NDIM)\n",
    "  DOUBLE PRECISION, INTENT(OUT) :: FI(NINT)\n",
    "  DOUBLE PRECISION, INTENT(INOUT) :: DINT(NINT,*)\n",
    "\n",
    "!X FI(1)=\n",
    "\n",
    "END SUBROUTINE ICND\n",
    "\n",
    "!----------------------------------------------------------------------\n",
    "!----------------------------------------------------------------------\n",
    "\n",
    "SUBROUTINE FOPT(NDIM,U,ICP,PAR,IJAC,FS,DFDU,DFDP)\n",
    "!--------- ----\n",
    "!\n",
    "! Defines the objective function for algebraic optimization problems\n",
    "!\n",
    "! Supplied variables :\n",
    "!      NDIM   :   Dimension of the state equation\n",
    "!      U      :   The state vector\n",
    "!      ICP    :   Indices of the control parameters\n",
    "!      PAR    :   The vector of control parameters\n",
    "!\n",
    "! Values to be returned :\n",
    "!      FS      :   The value of the objective function\n",
    "!\n",
    "! Normally unused Jacobian argument : IJAC, DFDP\n",
    "\n",
    "  IMPLICIT NONE\n",
    "  INTEGER, INTENT(IN) :: NDIM, ICP(*), IJAC\n",
    "  DOUBLE PRECISION, INTENT(IN) :: U(NDIM), PAR(*)\n",
    "  DOUBLE PRECISION, INTENT(OUT) :: FS\n",
    "  DOUBLE PRECISION, INTENT(INOUT) :: DFDU(NDIM),DFDP(*)\n",
    "\n",
    "!X FS=\n",
    "\n",
    "END SUBROUTINE FOPT\n",
    "\n",
    "!----------------------------------------------------------------------\n",
    "!----------------------------------------------------------------------\n",
    "\n",
    "SUBROUTINE PVLS(NDIM,U,PAR)\n",
    "!--------- ----\n",
    "\n",
    "  IMPLICIT NONE\n",
    "  INTEGER, INTENT(IN) :: NDIM\n",
    "  DOUBLE PRECISION, INTENT(IN) :: U(NDIM)\n",
    "  DOUBLE PRECISION, INTENT(INOUT) :: PAR(*)\n",
    "\n",
    "!---------------------------------------------------------------------- \n",
    "! NOTE : \n",
    "! Parameters set in this subroutine should be considered as ``solution \n",
    "! measures'' and be used for output purposes only.\n",
    "! \n",
    "! They should never be used as `true'' continuation parameters. \n",
    "!\n",
    "! They may, however, be added as ``over-specified parameters'' in the \n",
    "! parameter list associated with the AUTO-Constant NICP, in order to \n",
    "! print their values on the screen and in the ``p.xxx file.\n",
    "!\n",
    "! They may also appear in the list associated with AUTO-Constant NUZR.\n",
    "!\n",
    "!---------------------------------------------------------------------- \n",
    "! For algebraic problems the argument U is, as usual, the state vector.\n",
    "! For differential equations the argument U represents the approximate \n",
    "! solution on the entire interval [0,1]. In this case its values must \n",
    "! be accessed indirectly by calls to GETP, as illustrated below.\n",
    "!---------------------------------------------------------------------- \n",
    "!\n",
    "! Set PAR(2) equal to the L2-norm of U(1)\n",
    "!X PAR(2)=GETP('NRM',1,U)\n",
    "!\n",
    "! Set PAR(3) equal to the minimum of U(2)\n",
    "!X PAR(3)=GETP('MIN',2,U)\n",
    "!\n",
    "! Set PAR(4) equal to the value of U(2) at the left boundary.\n",
    "!X PAR(4)=GETP('BV0',2,U)\n",
    "!\n",
    "! Set PAR(5) equal to the pseudo-arclength step size used.\n",
    "!X PAR(5)=GETP('STP',1,U)\n",
    "!\n",
    "!---------------------------------------------------------------------- \n",
    "! The first argument of GETP may be one of the following:\n",
    "!        'NRM' (L2-norm),     'MAX' (maximum),\n",
    "!        'INT' (integral),    'BV0 (left boundary value),\n",
    "!        'MIN' (minimum),     'BV1' (right boundary value).\n",
    "!\n",
    "! Also available are\n",
    "!   'STP' (Pseudo-arclength step size used).\n",
    "!   'FLD' (`Fold function', which vanishes at folds).\n",
    "!   'BIF' (`Bifurcation function', which vanishes at singular points).\n",
    "!   'HBF' (`Hopf function'; which vanishes at Hopf points).\n",
    "!   'SPB' ( Function which vanishes at secondary periodic bifurcations).\n",
    "!---------------------------------------------------------------------- \n",
    "\n",
    "\n",
    "END SUBROUTINE PVLS\n",
    "\n",
    "!----------------------------------------------------------------------\n",
    "!----------------------------------------------------------------------\n"
   ]
  },
  {
   "cell_type": "markdown",
   "id": "c7fdc026",
   "metadata": {},
   "source": [
    " Load the files cusp.f90 and c.cusp into the AUTO\n",
    " command interpreter."
   ]
  },
  {
   "cell_type": "code",
   "execution_count": null,
   "id": "850a7610",
   "metadata": {
    "tags": []
   },
   "outputs": [],
   "source": [
    "cusp = auto.load('cusp',\n",
    "                parnames = {1:'lambda', 2:'mu'},\n",
    "                unames = {1:'x'},\n",
    "                NDIM=   1, IPS =   1, IRS =   0, ILP =   1,\n",
    "                ICP =  ['mu', 'lambda'],\n",
    "                NTST=   5, NCOL=   4, IAD =   3, ISP =   2, ISW = 1, IPLT= 0, NBC= 0, NINT= 0,\n",
    "                NMX=  200, NPR=   20, MXBF=   0, IID =   2, ITMX= 8, ITNW= 5, NWTN= 3, JAC= 0,\n",
    "                EPSL= 1e-06, EPSU = 1e-06, EPSS =0.0001,\n",
    "                DS  =  0.01, DSMIN= 0.005, DSMAX=   0.1, IADS=   1,\n",
    "                NPAR = 2, THL =  {}, THU =  {},\n",
    "                UZSTOP = {'mu': [-2.0, 2.0]}\n",
    ")"
   ]
  },
  {
   "cell_type": "markdown",
   "id": "b8473203",
   "metadata": {},
   "source": [
    " Run and store the result in the Python variable mu"
   ]
  },
  {
   "cell_type": "code",
   "execution_count": null,
   "id": "073b8d7c",
   "metadata": {},
   "outputs": [],
   "source": [
    "mu = auto.run(cusp)"
   ]
  },
  {
   "cell_type": "markdown",
   "id": "a2374d4b",
   "metadata": {},
   "source": [
    " Run backwards, and append to mu"
   ]
  },
  {
   "cell_type": "code",
   "execution_count": null,
   "id": "c5fc8cf7",
   "metadata": {},
   "outputs": [],
   "source": [
    "mu = mu + auto.run(cusp,DS='-')"
   ]
  },
  {
   "cell_type": "markdown",
   "id": "ad7bca97",
   "metadata": {},
   "source": [
    " Relabel solutions"
   ]
  },
  {
   "cell_type": "code",
   "execution_count": null,
   "id": "737a6812",
   "metadata": {},
   "outputs": [],
   "source": [
    "mu = auto.relabel(mu)"
   ]
  },
  {
   "cell_type": "markdown",
   "id": "2972cbbd",
   "metadata": {},
   "source": [
    " Save to b.mu, s.mu, and d.mu"
   ]
  },
  {
   "cell_type": "code",
   "execution_count": null,
   "id": "62f0c888",
   "metadata": {},
   "outputs": [],
   "source": [
    "auto.save(mu,'mu')"
   ]
  },
  {
   "cell_type": "markdown",
   "id": "497983a9",
   "metadata": {},
   "source": [
    " Plot bifurcation diagram\n",
    " \n",
    "(Unhide the following cell to adjust the plotting defaults)."
   ]
  },
  {
   "cell_type": "code",
   "execution_count": null,
   "id": "72f617ee",
   "metadata": {
    "jupyter": {
     "source_hidden": true
    },
    "tags": []
   },
   "outputs": [],
   "source": [
    "%%writefile autorc\n",
    "[AUTO_plotter]\n",
    "\n",
    "#default_option=\"d1\"\n",
    "#d1 = {\"grid\": \"no\", \"use_labels\": 1, \"use_symbols\": 1, \"stability\": 1}\n",
    "# similarly you can redefine d0, d2, d3, d4.\n",
    "\n",
    "#grid = \"no\"\n",
    "#stability = 0\n",
    "#use_labels = 1\n",
    "#use_symbols = 1\n",
    "\n",
    "#top_title = ''\n",
    "#top_title_fontsize = 12\n",
    "\n",
    "#xlabel = ''\n",
    "#xlabel_fontsize = 12\n",
    "#ylabel = ''\n",
    "#ylabel_fontsize = 12\n",
    "\n",
    "#solution_indepvarname = \"time\"\n",
    "#solution_coordnames = [\"$x$\",\"$y$\",\"$z$\"]\n",
    "#bifurcation_coordnames = [\"?\", \"L2-norm\"]\n",
    "\n",
    "#line_width = 2.0\n",
    "#dashes = (6.0,6.0)\n",
    "#background = \"white\"\n",
    "#foreground = \"black\"\n",
    "#color_list = \"black red green blue\"\n",
    "#symbol_color = \"red\"\n",
    "#symbol_font = \"-misc-fixed-*-*-*-*-*-*-*-*-*-*-*-*\"\n",
    "#decorations = 1\n",
    "#smart_label = 1\n",
    "#minx = 0\n",
    "#maxx = 0\n",
    "#miny = 0\n",
    "#maxy = 0\n",
    "#width = 600\n",
    "#height = 480\n",
    "#left_margin = 80\n",
    "#right_margin = 40\n",
    "#top_margin = 40\n",
    "#bottom_margin = 40\n",
    "#xticks = 5\n",
    "#yticks = 5\n",
    "#tick_label_template = \"%.2e\"\n",
    "#tick_length = 0.2\n",
    "#odd_tick_length = 0.4\n",
    "#even_tick_length = 0.2\n",
    "#ps_colormode = \"color\"\n",
    "#mark_t = None #or a real value between 0 and 1\n",
    "\n",
    "#type = \"bifurcation\" # or \"solution\"\n",
    "\n",
    "#bifurcation_x = [0]\n",
    "#bifurcation_y = [1]\n",
    "\n",
    "#solution_x = [\"t\"]\n",
    "#solution_y = [0]\n",
    "\n",
    "## Sets of columns that the user is likely to want to use\n",
    "#bifurcation_column_defaults = None\n",
    "#solution_column_defaults = None\n",
    "\n",
    "# The label(s) of the solution we wish to draw\n",
    "#label = [1,2,3]\n",
    "#label_defaults = None\n",
    "# The index/indices of the solution we wish to draw\n",
    "#index = [0]\n",
    "\n",
    "#bifurcation_diagram_filename = 'fort.7'\n",
    "#solution_filename = 'fort.8'\n",
    "\n",
    "#bifurcation_symbol = \"square\"\n",
    "#limit_point_symbol = None\n",
    "#hopf_symbol = \"fillsquare\"\n",
    "#period_doubling_symbol = \"doubletriangle\"\n",
    "#torus_symbol = \"filldiamond\"\n",
    "#user_point_symbol = \"U\"\n",
    "#error_symbol = None\n",
    "\n"
   ]
  },
  {
   "cell_type": "code",
   "execution_count": null,
   "id": "818f2093",
   "metadata": {},
   "outputs": [],
   "source": [
    "p = auto.plot(mu)\n",
    "p.config(bifurcation_y=['x'])"
   ]
  },
  {
   "cell_type": "markdown",
   "id": "296e7d16",
   "metadata": {},
   "source": [
    " Set the new start label to the first LP label in b.mu and s.mu"
   ]
  },
  {
   "cell_type": "code",
   "execution_count": null,
   "id": "7ed0bb60",
   "metadata": {},
   "outputs": [],
   "source": [
    "lp1 = auto.load(mu('LP1'), ISW=2)"
   ]
  },
  {
   "cell_type": "markdown",
   "id": "4d11083f",
   "metadata": {},
   "source": [
    " Continue from this label in two parameters"
   ]
  },
  {
   "cell_type": "code",
   "execution_count": null,
   "id": "a4902f72",
   "metadata": {},
   "outputs": [],
   "source": [
    "cusp = auto.run(lp1)\n",
    "cusp = cusp + auto.run(lp1,DS='-')"
   ]
  },
  {
   "cell_type": "markdown",
   "id": "f992ee3b",
   "metadata": {},
   "source": [
    " save to b.cusp, s.cusp, and d.cusp"
   ]
  },
  {
   "cell_type": "code",
   "execution_count": null,
   "id": "d5d453db",
   "metadata": {},
   "outputs": [],
   "source": [
    "auto.save(cusp,'cusp')"
   ]
  },
  {
   "cell_type": "markdown",
   "id": "5d4ebba2",
   "metadata": {},
   "source": [
    " Plot the cusp"
   ]
  },
  {
   "cell_type": "code",
   "execution_count": null,
   "id": "355a8821",
   "metadata": {},
   "outputs": [],
   "source": [
    "p = auto.plot(cusp)\n",
    "p.config(bifurcation_y=['lambda'])"
   ]
  },
  {
   "cell_type": "code",
   "execution_count": null,
   "id": "01f54937",
   "metadata": {},
   "outputs": [],
   "source": [
    "# Stop automatic execution at this point\n",
    "assert(False)"
   ]
  },
  {
   "cell_type": "markdown",
   "id": "caf82925",
   "metadata": {},
   "source": [
    "clean the directory"
   ]
  },
  {
   "cell_type": "code",
   "execution_count": null,
   "id": "441921ea",
   "metadata": {
    "tags": []
   },
   "outputs": [],
   "source": [
    "# comment out to clean directory\n",
    "auto.delete(\"mu\")\n",
    "auto.delete(\"cusp\")\n",
    "auto.clean()\n",
    "!rm -f cusp.f90 autorc"
   ]
  },
  {
   "cell_type": "code",
   "execution_count": null,
   "id": "5f6b636d",
   "metadata": {},
   "outputs": [],
   "source": []
  }
 ],
 "metadata": {
  "kernelspec": {
   "display_name": "Python 3 (ipykernel)",
   "language": "python",
   "name": "python3"
  },
  "language_info": {
   "codemirror_mode": {
    "name": "ipython",
    "version": 3
   },
   "file_extension": ".py",
   "mimetype": "text/x-python",
   "name": "python",
   "nbconvert_exporter": "python",
   "pygments_lexer": "ipython3",
   "version": "3.10.10"
  }
 },
 "nbformat": 4,
 "nbformat_minor": 5
}
